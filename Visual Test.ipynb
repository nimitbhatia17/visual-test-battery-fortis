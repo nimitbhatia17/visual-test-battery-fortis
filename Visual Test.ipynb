{
 "cells": [
  {
   "cell_type": "code",
   "execution_count": 1,
   "id": "c7eae70e",
   "metadata": {},
   "outputs": [],
   "source": [
    "import numpy as np\n",
    "import random"
   ]
  },
  {
   "cell_type": "code",
   "execution_count": 2,
   "id": "7919a106",
   "metadata": {},
   "outputs": [],
   "source": [
    "xMin = -600\n",
    "xMax = 600\n",
    "yMin = -460\n",
    "yMax = 320"
   ]
  },
  {
   "cell_type": "code",
   "execution_count": 13,
   "id": "9d4e2109",
   "metadata": {},
   "outputs": [
    {
     "data": {
      "text/plain": [
       "[237, 0, 0, 0, 0, 0, 0, 0, 0, 0, 0]"
      ]
     },
     "execution_count": 13,
     "metadata": {},
     "output_type": "execute_result"
    }
   ],
   "source": [
    "xArr1 = [random.randint(xMin, xMax), 0, 0, 0, 0, 0, 0, 0, 0, 0, 0]\n",
    "xArr1"
   ]
  },
  {
   "cell_type": "code",
   "execution_count": 14,
   "id": "bad83703",
   "metadata": {},
   "outputs": [
    {
     "data": {
      "text/plain": [
       "[296, 0, 0, 0, 0, 0, 0, 0, 0, 0, 0]"
      ]
     },
     "execution_count": 14,
     "metadata": {},
     "output_type": "execute_result"
    }
   ],
   "source": [
    "yArr1 = [random.randint(yMin, yMax), 0, 0, 0, 0, 0, 0, 0, 0, 0, 0]\n",
    "yArr1"
   ]
  },
  {
   "cell_type": "code",
   "execution_count": 15,
   "id": "a0ca4220",
   "metadata": {},
   "outputs": [],
   "source": [
    "distance = 620"
   ]
  },
  {
   "cell_type": "code",
   "execution_count": 17,
   "id": "2a7e16f8",
   "metadata": {},
   "outputs": [],
   "source": [
    "for i in range(1,11):\n",
    "    xNew = random.randint(xArr1[i-1]-distance,xArr1[i-1]+distance)\n",
    "    while xNew > xMax and xNew < xMin:\n",
    "        xNew = random.randint(xArr1[i-1]-distance,xArr1[i-1]+distance)\n",
    "        \n",
    "    xArr1[i] = xNew\n",
    "    \n",
    "    flag = random.choice([-1,1])\n",
    "    \n",
    "    yNew = flag * ((distance ** 2 - (xNew - xArr1[i - 1]) ** 2) ** (0.5)) + yArr1[i - 1]\n",
    "        \n",
    "    if yNew > yMax or yNew < yMin:\n",
    "        yNew = (-1 * flag) * (distance ** 2 - (xNew - xArr1[i-1]) ** 2) ** (0.5) + yArr1[i - 1]\n",
    "    \n",
    "    yArr1[i] = yNew\n",
    "    \n",
    "    if yNew > yMax or yNew < yMin:\n",
    "        i -= 1"
   ]
  },
  {
   "cell_type": "code",
   "execution_count": 18,
   "id": "50dec7e1",
   "metadata": {},
   "outputs": [
    {
     "data": {
      "text/plain": [
       "[237, -295, 268, -214, -234, -524, -416, -290, -373, 105, 72]"
      ]
     },
     "execution_count": 18,
     "metadata": {},
     "output_type": "execute_result"
    }
   ],
   "source": [
    "xArr1"
   ]
  },
  {
   "cell_type": "code",
   "execution_count": 19,
   "id": "db3fb676",
   "metadata": {},
   "outputs": [
    {
     "data": {
      "text/plain": [
       "[296,\n",
       " -22.39597987411838,\n",
       " 237.27881674657795,\n",
       " -152.6904128087807,\n",
       " -772.3677482019674,\n",
       " -224.37139784915712,\n",
       " -834.8924867560023,\n",
       " -227.83071065739136,\n",
       " -842.2499486374533,\n",
       " -447.38794742690374,\n",
       " 171.73320388356473]"
      ]
     },
     "execution_count": 19,
     "metadata": {},
     "output_type": "execute_result"
    }
   ],
   "source": [
    "yArr1"
   ]
  },
  {
   "cell_type": "code",
   "execution_count": null,
   "id": "6e9fe0f4",
   "metadata": {},
   "outputs": [],
   "source": []
  }
 ],
 "metadata": {
  "kernelspec": {
   "display_name": "Python 3 (ipykernel)",
   "language": "python",
   "name": "python3"
  },
  "language_info": {
   "codemirror_mode": {
    "name": "ipython",
    "version": 3
   },
   "file_extension": ".py",
   "mimetype": "text/x-python",
   "name": "python",
   "nbconvert_exporter": "python",
   "pygments_lexer": "ipython3",
   "version": "3.10.8"
  }
 },
 "nbformat": 4,
 "nbformat_minor": 5
}
